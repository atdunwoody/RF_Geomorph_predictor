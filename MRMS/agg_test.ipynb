{
 "cells": [
  {
   "cell_type": "code",
   "execution_count": 2,
   "metadata": {},
   "outputs": [
    {
     "name": "stdout",
     "output_type": "stream",
     "text": [
      "Found 720 files in the specified time range.\n",
      "First file: Y:\\ATD\\GIS\\East_Troublesome\\Watershed Statistical Analysis\\From Megan\\2min_rasters\\2min_2022\\multiplied_20220501-000000.tif\n",
      "Last file: Y:\\ATD\\GIS\\East_Troublesome\\Watershed Statistical Analysis\\From Megan\\2min_rasters\\2min_2022\\multiplied_20220502-000000.tif\n",
      "Time to find files: 0:00:47.457640\n",
      "Time to create delayed tasks: 0:00:00.019061\n",
      "Time to load files: 0:02:13.544153\n",
      "Time to concatenate files: 0:00:00.914581\n",
      "Computed mean precipitation for each time step.\n",
      "Results saved to Y:\\ATD\\GIS\\East_Troublesome\\Watershed Statistical Analysis\\Precipitation\\mean_precipitation.csv\n"
     ]
    }
   ],
   "source": [
    "import xarray as xr\n",
    "import rioxarray\n",
    "import os\n",
    "from datetime import datetime\n",
    "import dask\n",
    "from dask.delayed import delayed\n",
    "from utils import get_file_paths, load_raster\n",
    "\n",
    "def get_precipitation_data_time_series(directory, output_dir, start_time, end_time, ext = '.tif'):\n",
    "    timer_start = datetime.now()\n",
    "    file_paths = get_file_paths(directory, start_time, end_time)\n",
    "    file_load_time = datetime.now()\n",
    "    print(f\"Found {len(file_paths)} files in the specified time range.\")\n",
    "    print(f\"First file: {file_paths[0]}\")\n",
    "    print(f\"Last file: {file_paths[-1]}\")\n",
    "    print(f\"Time to find files: {file_load_time - timer_start}\")\n",
    "\n",
    "    # Load all raster files as a dask-backed xarray dataset\n",
    "    delayed_datasets = [delayed(load_raster)(f) for f in file_paths]\n",
    "    get_datasets_time = datetime.now()\n",
    "    print(f\"Time to create delayed tasks: {get_datasets_time - file_load_time}\")\n",
    "    datasets = dask.compute(*delayed_datasets)\n",
    "    compute_time = datetime.now()\n",
    "    print(f\"Time to load files: {compute_time - get_datasets_time}\")\n",
    "    dataset = xr.concat(datasets, dim='time')\n",
    "    concat_time = datetime.now()\n",
    "    print(f\"Time to concatenate files: {concat_time - compute_time}\")\n",
    "\n",
    "    # Compute mean precipitation for each time step\n",
    "    mean_precipitation = dataset.mean(dim='time')\n",
    "    mean_precipitation.name = 'mean_precipitation'  # Set a name for the DataArray\n",
    "    print(\"Computed mean precipitation for each time step.\")\n",
    "\n",
    "    # Save to CSV\n",
    "    output_file_path = os.path.join(output_dir, 'mean_precipitation.csv')\n",
    "    mean_precipitation.to_dataframe().to_csv(output_file_path)\n",
    "    print(f\"Results saved to {output_file_path}\")\n",
    "    \n",
    "directory = r\"Y:\\ATD\\GIS\\East_Troublesome\\Watershed Statistical Analysis\\From Megan\\2min_rasters\"\n",
    "start_time = datetime(2022, 5, 1, 0, 0)\n",
    "end_time = datetime(2022, 5, 2, 0, 0)\n",
    "output_dir = r\"Y:\\ATD\\GIS\\East_Troublesome\\Watershed Statistical Analysis\\Precipitation\"\n",
    "timer_start = datetime.now()\n",
    "get_precipitation_data_time_series(directory, output_dir, start_time, end_time)"
   ]
  },
  {
   "cell_type": "code",
   "execution_count": 3,
   "metadata": {},
   "outputs": [
    {
     "name": "stdout",
     "output_type": "stream",
     "text": [
      "<xarray.DataArray (band: 1, y: 91, x: 146)>\n",
      "[13286 values with dtype=float32]\n",
      "Coordinates:\n",
      "  * band     (band) int32 1\n",
      "  * y        (y) float64 40.86 40.85 40.84 40.83 ... 39.99 39.98 39.97 39.96\n",
      "  * x        (x) float64 -106.5 -106.5 -106.5 -106.5 ... -105.1 -105.1 -105.1\n",
      "Attributes:\n",
      "    transform:      (0.00999999971424488, 0.0, -106.55000066995284, 0.0, -0.0...\n",
      "    crs:            +init=epsg:4326\n",
      "    res:            (0.00999999971424488, 0.009999999714204058)\n",
      "    is_tiled:       0\n",
      "    nodatavals:     (-3.3999999521443642e+38,)\n",
      "    scales:         (1.0,)\n",
      "    offsets:        (0.0,)\n",
      "    AREA_OR_POINT:  Area\n"
     ]
    }
   ],
   "source": []
  }
 ],
 "metadata": {
  "kernelspec": {
   "display_name": "radar",
   "language": "python",
   "name": "python3"
  },
  "language_info": {
   "codemirror_mode": {
    "name": "ipython",
    "version": 3
   },
   "file_extension": ".py",
   "mimetype": "text/x-python",
   "name": "python",
   "nbconvert_exporter": "python",
   "pygments_lexer": "ipython3",
   "version": "3.8.13"
  }
 },
 "nbformat": 4,
 "nbformat_minor": 2
}
