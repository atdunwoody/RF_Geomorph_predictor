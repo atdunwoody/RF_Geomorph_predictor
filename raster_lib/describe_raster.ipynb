{
 "cells": [
  {
   "cell_type": "code",
   "execution_count": 3,
   "metadata": {},
   "outputs": [],
   "source": [
    "import rasterio\n",
    "import numpy as np\n",
    "import os\n",
    "\n",
    "\n",
    "def print_raster_res(raster_path):\n",
    "    raster = rasterio.open(raster_path)\n",
    "    print(raster.res)\n",
    "\n",
    "#print min and max values\n",
    "def print_min_max(raster_path):\n",
    "    raster = rasterio.open(raster_path)\n",
    "    #mask Nan values\n",
    "    raster_array = raster.read()\n",
    "    raster_array = np.ma.masked_invalid(raster_array)\n",
    "    #get raster no data and mask it\n",
    "    no_data = raster.nodatavals[0]\n",
    "    raster_array_mask = np.ma.masked_where(raster_array == no_data, raster_array)\n",
    "    valid_percent = (np.count_nonzero(~raster_array_mask.mask) / raster_array.size) * 100\n",
    "    print(f\"Min: {np.min(raster_array_mask)}\")\n",
    "    print(f\"Max: {np.max(raster_array_mask)}\")\n",
    "    print(f\"Valid percent: {valid_percent}\")\n",
    "\n",
    "\n",
    "#print data type\n",
    "def print_dtype(raster_path):\n",
    "    raster = rasterio.open(raster_path)\n",
    "    print(raster.dtypes)\n"
   ]
  },
  {
   "cell_type": "code",
   "execution_count": 4,
   "metadata": {},
   "outputs": [
    {
     "name": "stdout",
     "output_type": "stream",
     "text": [
      "Raster: LPM_pt_prec_081222.tif\n",
      "(0.04000000000000142, 0.039999999999962746)\n",
      "\n",
      "\n",
      "Raster: MM_pt_prec_090122.tif\n",
      "(0.04400055102111201, 0.04400000000000889)\n",
      "\n",
      "\n",
      "Raster: MPM_pt_prec_090122.tif\n",
      "(0.04100018241517733, 0.04100046181517707)\n",
      "\n",
      "\n",
      "Raster: UM1_2023_pt_prec_071822.tif\n",
      "(0.03799967806840954, 0.03800050047959865)\n",
      "\n",
      "\n",
      "Raster: UM2_2023_pt_prec_070923_45mm.tif\n",
      "(0.04500000000000043, 0.045000000000006174)\n",
      "\n",
      "\n",
      "Raster: UM2_pt_prec_071122.tif\n",
      "(0.03899978479003582, 0.03899981513151631)\n",
      "\n",
      "\n",
      "Raster: LM2_2023_pt_prec_081222.tif\n",
      "(0.042999667454922286, 0.04300074854300294)\n",
      "\n",
      "\n",
      "Raster: LM2_2023_pt_prec_070923.tif\n",
      "(0.04300022592062699, 0.04300262149628078)\n",
      "\n",
      "\n",
      "Raster: LPM_Intersection_PA3_RMSE_018_pt_prec_070923.tif\n",
      "(0.04000137698371669, 0.03999999999999861)\n",
      "\n",
      "\n",
      "Raster: MM_all_102023_align60k_intersection_one_checked_pt_prec_070923.tif\n",
      "(0.04400108393740261, 0.04400077001347656)\n",
      "\n",
      "\n",
      "Raster: MPM_2023_090122_REMOVED_pt_prec_070923.tif\n",
      "(0.04100073264049093, 0.04100142672735036)\n",
      "\n",
      "\n",
      "Raster: UM1_2023_pt_prec_070923.tif\n",
      "(0.03800036893562113, 0.03800152006081975)\n",
      "\n",
      "\n"
     ]
    }
   ],
   "source": [
    "\n",
    "raster_dir = r\"Y:\\ATD\\Drone Data Processing\\Sediment Budgets\\ETF\\Error\\Gross Change\\Krigged SfM Covariance\\Point precision Metashape\"\n",
    "raster_paths = [os.path.join(raster_dir, raster) for raster in os.listdir(raster_dir) if raster.endswith(\".tif\")]\n",
    "\n",
    "\n",
    "#raster_paths = []\n",
    "for raster_path in raster_paths:\n",
    "    print(f\"Raster: {os.path.basename(raster_path)}\")\n",
    "    print_raster_res(raster_path)\n",
    "    #print_min_max(raster_path)\n",
    "    print(\"\\n\")\n"
   ]
  },
  {
   "cell_type": "code",
   "execution_count": null,
   "metadata": {},
   "outputs": [],
   "source": [
    "\n"
   ]
  }
 ],
 "metadata": {
  "kernelspec": {
   "display_name": "radar",
   "language": "python",
   "name": "python3"
  },
  "language_info": {
   "codemirror_mode": {
    "name": "ipython",
    "version": 3
   },
   "file_extension": ".py",
   "mimetype": "text/x-python",
   "name": "python",
   "nbconvert_exporter": "python",
   "pygments_lexer": "ipython3",
   "version": "3.8.13"
  }
 },
 "nbformat": 4,
 "nbformat_minor": 2
}
