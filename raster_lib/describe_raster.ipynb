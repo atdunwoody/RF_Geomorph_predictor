{
 "cells": [
  {
   "cell_type": "code",
   "execution_count": 3,
   "metadata": {},
   "outputs": [],
   "source": [
    "import rasterio\n",
    "import numpy as np\n",
    "import os\n",
    "\n",
    "\n",
    "def print_raster_res(raster_path):\n",
    "    raster = rasterio.open(raster_path)\n",
    "    print(raster.res)\n",
    "\n",
    "#print min and max values\n",
    "def print_min_max(raster_path):\n",
    "    raster = rasterio.open(raster_path)\n",
    "    #mask Nan values\n",
    "    raster_array = raster.read()\n",
    "    raster_array = np.ma.masked_invalid(raster_array)\n",
    "    #get raster no data and mask it\n",
    "    no_data = raster.nodatavals[0]\n",
    "    raster_array_mask = np.ma.masked_where(raster_array == no_data, raster_array)\n",
    "    valid_percent = (np.count_nonzero(~raster_array_mask.mask) / raster_array.size) * 100\n",
    "    print(f\"Min: {np.min(raster_array_mask)}\")\n",
    "    print(f\"Max: {np.max(raster_array_mask)}\")\n",
    "    print(f\"Valid percent: {valid_percent}\")\n",
    "\n",
    "\n",
    "#print data type\n",
    "def print_dtype(raster_path):\n",
    "    raster = rasterio.open(raster_path)\n",
    "    print(raster.dtypes)\n"
   ]
  },
  {
   "cell_type": "code",
   "execution_count": 8,
   "metadata": {},
   "outputs": [
    {
     "name": "stdout",
     "output_type": "stream",
     "text": [
      "Raster: LM2 070923 - LIDAR_2020_align_diff.tif\n",
      "(0.2, 0.2)\n",
      "\n",
      "\n"
     ]
    }
   ],
   "source": [
    "\n",
    "raster_dir = r\"Y:\\ATD\\Drone Data Processing\\Sediment Budgets\\ETF\\Error\\Gross Change\\Krigged SfM Covariance\\Point precision Metashape\"\n",
    "raster_paths = [os.path.join(raster_dir, raster) for raster in os.listdir(raster_dir) if raster.endswith(\".tif\")]\n",
    "raster_paths = [r\"Y:\\ATD\\Drone Data Processing\\Sediment Budgets\\ETF\\Unmasked DoDs\\Aligned LIDAR\\LM2 070923 - LIDAR_2020_align_diff.tif\"]\n",
    "\n",
    "#raster_paths = []\n",
    "for raster_path in raster_paths:\n",
    "    print(f\"Raster: {os.path.basename(raster_path)}\")\n",
    "    print_raster_res(raster_path)\n",
    "    #print_min_max(raster_path)\n",
    "    print(\"\\n\")\n"
   ]
  },
  {
   "cell_type": "code",
   "execution_count": null,
   "metadata": {},
   "outputs": [],
   "source": [
    "\n"
   ]
  }
 ],
 "metadata": {
  "kernelspec": {
   "display_name": "radar",
   "language": "python",
   "name": "python3"
  },
  "language_info": {
   "codemirror_mode": {
    "name": "ipython",
    "version": 3
   },
   "file_extension": ".py",
   "mimetype": "text/x-python",
   "name": "python",
   "nbconvert_exporter": "python",
   "pygments_lexer": "ipython3",
   "version": "3.8.13"
  }
 },
 "nbformat": 4,
 "nbformat_minor": 2
}
